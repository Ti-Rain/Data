{
 "cells": [
  {
   "cell_type": "markdown",
   "metadata": {},
   "source": [
    "## 一、数据分析的目的"
   ]
  },
  {
   "cell_type": "markdown",
   "metadata": {},
   "source": [
    "通过分析朝阳医院2018年的月均消费次数，月均消费金额、客单价以及消费趋势等业务指标，了解朝阳医院在2018年里的销售情况。"
   ]
  },
  {
   "cell_type": "markdown",
   "metadata": {},
   "source": [
    "## 二、数据分析基本过程"
   ]
  },
  {
   "cell_type": "markdown",
   "metadata": {},
   "source": [
    "### 1、获取数据"
   ]
  },
  {
   "cell_type": "code",
   "execution_count": 1,
   "metadata": {},
   "outputs": [],
   "source": [
    "# 导入相关包\n",
    "import pandas as pd\n",
    "import numpy as np"
   ]
  },
  {
   "cell_type": "code",
   "execution_count": 2,
   "metadata": {
    "scrolled": true
   },
   "outputs": [
    {
     "data": {
      "text/html": [
       "<div>\n",
       "<style scoped>\n",
       "    .dataframe tbody tr th:only-of-type {\n",
       "        vertical-align: middle;\n",
       "    }\n",
       "\n",
       "    .dataframe tbody tr th {\n",
       "        vertical-align: top;\n",
       "    }\n",
       "\n",
       "    .dataframe thead th {\n",
       "        text-align: right;\n",
       "    }\n",
       "</style>\n",
       "<table border=\"1\" class=\"dataframe\">\n",
       "  <thead>\n",
       "    <tr style=\"text-align: right;\">\n",
       "      <th></th>\n",
       "      <th>购药时间</th>\n",
       "      <th>社保卡号</th>\n",
       "      <th>商品编码</th>\n",
       "      <th>商品名称</th>\n",
       "      <th>销售数量</th>\n",
       "      <th>应收金额</th>\n",
       "      <th>实收金额</th>\n",
       "    </tr>\n",
       "  </thead>\n",
       "  <tbody>\n",
       "    <tr>\n",
       "      <th>0</th>\n",
       "      <td>2018-01-01 星期五</td>\n",
       "      <td>1.616528e+06</td>\n",
       "      <td>236701.0</td>\n",
       "      <td>强力VC银翘片</td>\n",
       "      <td>6.0</td>\n",
       "      <td>82.8</td>\n",
       "      <td>69.00</td>\n",
       "    </tr>\n",
       "    <tr>\n",
       "      <th>1</th>\n",
       "      <td>2018-01-02 星期六</td>\n",
       "      <td>1.616528e+06</td>\n",
       "      <td>236701.0</td>\n",
       "      <td>清热解毒口服液</td>\n",
       "      <td>1.0</td>\n",
       "      <td>28.0</td>\n",
       "      <td>24.64</td>\n",
       "    </tr>\n",
       "    <tr>\n",
       "      <th>2</th>\n",
       "      <td>2018-01-06 星期三</td>\n",
       "      <td>1.260283e+07</td>\n",
       "      <td>236701.0</td>\n",
       "      <td>感康</td>\n",
       "      <td>2.0</td>\n",
       "      <td>16.8</td>\n",
       "      <td>15.00</td>\n",
       "    </tr>\n",
       "    <tr>\n",
       "      <th>3</th>\n",
       "      <td>2018-01-11 星期一</td>\n",
       "      <td>1.007034e+10</td>\n",
       "      <td>236701.0</td>\n",
       "      <td>三九感冒灵</td>\n",
       "      <td>1.0</td>\n",
       "      <td>28.0</td>\n",
       "      <td>28.00</td>\n",
       "    </tr>\n",
       "    <tr>\n",
       "      <th>4</th>\n",
       "      <td>2018-01-15 星期五</td>\n",
       "      <td>1.015543e+08</td>\n",
       "      <td>236701.0</td>\n",
       "      <td>三九感冒灵</td>\n",
       "      <td>8.0</td>\n",
       "      <td>224.0</td>\n",
       "      <td>208.00</td>\n",
       "    </tr>\n",
       "  </tbody>\n",
       "</table>\n",
       "</div>"
      ],
      "text/plain": [
       "             购药时间          社保卡号      商品编码     商品名称  销售数量   应收金额    实收金额\n",
       "0  2018-01-01 星期五  1.616528e+06  236701.0  强力VC银翘片   6.0   82.8   69.00\n",
       "1  2018-01-02 星期六  1.616528e+06  236701.0  清热解毒口服液   1.0   28.0   24.64\n",
       "2  2018-01-06 星期三  1.260283e+07  236701.0       感康   2.0   16.8   15.00\n",
       "3  2018-01-11 星期一  1.007034e+10  236701.0    三九感冒灵   1.0   28.0   28.00\n",
       "4  2018-01-15 星期五  1.015543e+08  236701.0    三九感冒灵   8.0  224.0  208.00"
      ]
     },
     "execution_count": 2,
     "metadata": {},
     "output_type": "execute_result"
    }
   ],
   "source": [
    "# 读取Excel文件\n",
    "dataZY = pd.read_excel('朝阳医院2018年销售数据.xlsx')\n",
    "dataZY.head()"
   ]
  },
  {
   "cell_type": "markdown",
   "metadata": {},
   "source": [
    "##### 查看数据类型，缺失情况"
   ]
  },
  {
   "cell_type": "code",
   "execution_count": 3,
   "metadata": {},
   "outputs": [
    {
     "data": {
      "text/plain": [
       "(6578, 7)"
      ]
     },
     "execution_count": 3,
     "metadata": {},
     "output_type": "execute_result"
    },
    {
     "data": {
      "text/plain": [
       "RangeIndex(start=0, stop=6578, step=1)"
      ]
     },
     "execution_count": 3,
     "metadata": {},
     "output_type": "execute_result"
    },
    {
     "data": {
      "text/plain": [
       "Index(['购药时间', '社保卡号', '商品编码', '商品名称', '销售数量', '应收金额', '实收金额'], dtype='object')"
      ]
     },
     "execution_count": 3,
     "metadata": {},
     "output_type": "execute_result"
    },
    {
     "data": {
      "text/plain": [
       "购药时间    6576\n",
       "社保卡号    6576\n",
       "商品编码    6577\n",
       "商品名称    6577\n",
       "销售数量    6577\n",
       "应收金额    6577\n",
       "实收金额    6577\n",
       "dtype: int64"
      ]
     },
     "execution_count": 3,
     "metadata": {},
     "output_type": "execute_result"
    },
    {
     "data": {
      "text/plain": [
       "购药时间    True\n",
       "社保卡号    True\n",
       "商品编码    True\n",
       "商品名称    True\n",
       "销售数量    True\n",
       "应收金额    True\n",
       "实收金额    True\n",
       "dtype: bool"
      ]
     },
     "execution_count": 3,
     "metadata": {},
     "output_type": "execute_result"
    },
    {
     "data": {
      "text/html": [
       "<div>\n",
       "<style scoped>\n",
       "    .dataframe tbody tr th:only-of-type {\n",
       "        vertical-align: middle;\n",
       "    }\n",
       "\n",
       "    .dataframe tbody tr th {\n",
       "        vertical-align: top;\n",
       "    }\n",
       "\n",
       "    .dataframe thead th {\n",
       "        text-align: right;\n",
       "    }\n",
       "</style>\n",
       "<table border=\"1\" class=\"dataframe\">\n",
       "  <thead>\n",
       "    <tr style=\"text-align: right;\">\n",
       "      <th></th>\n",
       "      <th>购药时间</th>\n",
       "      <th>社保卡号</th>\n",
       "      <th>商品编码</th>\n",
       "      <th>商品名称</th>\n",
       "      <th>销售数量</th>\n",
       "      <th>应收金额</th>\n",
       "      <th>实收金额</th>\n",
       "    </tr>\n",
       "  </thead>\n",
       "  <tbody>\n",
       "    <tr>\n",
       "      <th>6570</th>\n",
       "      <td>NaN</td>\n",
       "      <td>11778628.0</td>\n",
       "      <td>2367011.0</td>\n",
       "      <td>高特灵</td>\n",
       "      <td>10.0</td>\n",
       "      <td>56.0</td>\n",
       "      <td>56.00</td>\n",
       "    </tr>\n",
       "    <tr>\n",
       "      <th>6571</th>\n",
       "      <td>2018-04-25 星期二</td>\n",
       "      <td>NaN</td>\n",
       "      <td>2367011.0</td>\n",
       "      <td>高特灵</td>\n",
       "      <td>2.0</td>\n",
       "      <td>11.2</td>\n",
       "      <td>9.86</td>\n",
       "    </tr>\n",
       "    <tr>\n",
       "      <th>6574</th>\n",
       "      <td>NaN</td>\n",
       "      <td>NaN</td>\n",
       "      <td>NaN</td>\n",
       "      <td>NaN</td>\n",
       "      <td>NaN</td>\n",
       "      <td>NaN</td>\n",
       "      <td>NaN</td>\n",
       "    </tr>\n",
       "  </tbody>\n",
       "</table>\n",
       "</div>"
      ],
      "text/plain": [
       "                购药时间        社保卡号       商品编码 商品名称  销售数量  应收金额   实收金额\n",
       "6570             NaN  11778628.0  2367011.0  高特灵  10.0  56.0  56.00\n",
       "6571  2018-04-25 星期二         NaN  2367011.0  高特灵   2.0  11.2   9.86\n",
       "6574             NaN         NaN        NaN  NaN   NaN   NaN    NaN"
      ]
     },
     "execution_count": 3,
     "metadata": {},
     "output_type": "execute_result"
    }
   ],
   "source": [
    "dataZY.shape  # 查看数据的形状，即几行几列\n",
    "dataZY.index  # 查看索引\n",
    "dataZY.columns  # 查看每一列的列表头内容\n",
    "dataZY.count()  # 查看每一列数据统计数目\n",
    "\n",
    "dataZY.isnull().any()  # 判断哪些”列”存在缺失值\n",
    "dataZY[dataZY.isnull().values == True].drop_duplicates()  # 查看数据集中存在空值的行"
   ]
  },
  {
   "cell_type": "markdown",
   "metadata": {},
   "source": [
    "- 总共有6578行、7列数据，但是“购药时间”和“社保卡号”这两列只有6576个数据，而“商品编码”一直到“实收金额”这些列都是只有6577个数据，这就意味着数据中存在缺失值，查看数据可知存在一行缺失值，此外“购药时间”和“社保卡号”这两列都各自存在一个缺失数据，这些缺失数据在后面步骤中需要进一步处理。"
   ]
  },
  {
   "cell_type": "markdown",
   "metadata": {},
   "source": [
    "### 2、数据清洗"
   ]
  },
  {
   "cell_type": "code",
   "execution_count": 4,
   "metadata": {},
   "outputs": [
    {
     "data": {
      "text/html": [
       "<div>\n",
       "<style scoped>\n",
       "    .dataframe tbody tr th:only-of-type {\n",
       "        vertical-align: middle;\n",
       "    }\n",
       "\n",
       "    .dataframe tbody tr th {\n",
       "        vertical-align: top;\n",
       "    }\n",
       "\n",
       "    .dataframe thead th {\n",
       "        text-align: right;\n",
       "    }\n",
       "</style>\n",
       "<table border=\"1\" class=\"dataframe\">\n",
       "  <thead>\n",
       "    <tr style=\"text-align: right;\">\n",
       "      <th></th>\n",
       "      <th>销售时间</th>\n",
       "      <th>社保卡号</th>\n",
       "      <th>商品编码</th>\n",
       "      <th>商品名称</th>\n",
       "      <th>销售数量</th>\n",
       "      <th>应收金额</th>\n",
       "      <th>实收金额</th>\n",
       "    </tr>\n",
       "  </thead>\n",
       "  <tbody>\n",
       "    <tr>\n",
       "      <th>0</th>\n",
       "      <td>2018-01-01 星期五</td>\n",
       "      <td>1.616528e+06</td>\n",
       "      <td>236701.0</td>\n",
       "      <td>强力VC银翘片</td>\n",
       "      <td>6.0</td>\n",
       "      <td>82.8</td>\n",
       "      <td>69.00</td>\n",
       "    </tr>\n",
       "    <tr>\n",
       "      <th>1</th>\n",
       "      <td>2018-01-02 星期六</td>\n",
       "      <td>1.616528e+06</td>\n",
       "      <td>236701.0</td>\n",
       "      <td>清热解毒口服液</td>\n",
       "      <td>1.0</td>\n",
       "      <td>28.0</td>\n",
       "      <td>24.64</td>\n",
       "    </tr>\n",
       "    <tr>\n",
       "      <th>2</th>\n",
       "      <td>2018-01-06 星期三</td>\n",
       "      <td>1.260283e+07</td>\n",
       "      <td>236701.0</td>\n",
       "      <td>感康</td>\n",
       "      <td>2.0</td>\n",
       "      <td>16.8</td>\n",
       "      <td>15.00</td>\n",
       "    </tr>\n",
       "    <tr>\n",
       "      <th>3</th>\n",
       "      <td>2018-01-11 星期一</td>\n",
       "      <td>1.007034e+10</td>\n",
       "      <td>236701.0</td>\n",
       "      <td>三九感冒灵</td>\n",
       "      <td>1.0</td>\n",
       "      <td>28.0</td>\n",
       "      <td>28.00</td>\n",
       "    </tr>\n",
       "    <tr>\n",
       "      <th>4</th>\n",
       "      <td>2018-01-15 星期五</td>\n",
       "      <td>1.015543e+08</td>\n",
       "      <td>236701.0</td>\n",
       "      <td>三九感冒灵</td>\n",
       "      <td>8.0</td>\n",
       "      <td>224.0</td>\n",
       "      <td>208.00</td>\n",
       "    </tr>\n",
       "  </tbody>\n",
       "</table>\n",
       "</div>"
      ],
      "text/plain": [
       "             销售时间          社保卡号      商品编码     商品名称  销售数量   应收金额    实收金额\n",
       "0  2018-01-01 星期五  1.616528e+06  236701.0  强力VC银翘片   6.0   82.8   69.00\n",
       "1  2018-01-02 星期六  1.616528e+06  236701.0  清热解毒口服液   1.0   28.0   24.64\n",
       "2  2018-01-06 星期三  1.260283e+07  236701.0       感康   2.0   16.8   15.00\n",
       "3  2018-01-11 星期一  1.007034e+10  236701.0    三九感冒灵   1.0   28.0   28.00\n",
       "4  2018-01-15 星期五  1.015543e+08  236701.0    三九感冒灵   8.0  224.0  208.00"
      ]
     },
     "execution_count": 4,
     "metadata": {},
     "output_type": "execute_result"
    }
   ],
   "source": [
    "# 列名重命名，使用rename函数，把\"购药时间\" 改为 \"销售时间\"\n",
    "dataZY.rename(columns={'购药时间': '销售时间'}, inplace=True)\n",
    "dataZY.head()"
   ]
  },
  {
   "cell_type": "markdown",
   "metadata": {},
   "source": [
    "**1）缺失数据处理**\n",
    "\n",
    "    缺失数据常用的处理方式为删除含有缺失数据的记录或者利用算法去补全缺失数据。\n",
    "\n",
    "    本案例中缺失值少，对原数据不存在影响，故直接使用dropna函数删除缺失数据，具体如下："
   ]
  },
  {
   "cell_type": "code",
   "execution_count": 5,
   "metadata": {
    "scrolled": false
   },
   "outputs": [
    {
     "name": "stdout",
     "output_type": "stream",
     "text": [
      "删除缺失值前：(6578, 7)\n",
      "<class 'pandas.core.frame.DataFrame'>\n",
      "RangeIndex: 6578 entries, 0 to 6577\n",
      "Data columns (total 7 columns):\n",
      "销售时间    6576 non-null object\n",
      "社保卡号    6576 non-null float64\n",
      "商品编码    6577 non-null float64\n",
      "商品名称    6577 non-null object\n",
      "销售数量    6577 non-null float64\n",
      "应收金额    6577 non-null float64\n",
      "实收金额    6577 non-null float64\n",
      "dtypes: float64(5), object(2)\n",
      "memory usage: 359.9+ KB\n",
      "\n",
      "删除缺失值后：(6575, 7)\n",
      "<class 'pandas.core.frame.DataFrame'>\n",
      "RangeIndex: 6575 entries, 0 to 6574\n",
      "Data columns (total 7 columns):\n",
      "销售时间    6575 non-null object\n",
      "社保卡号    6575 non-null float64\n",
      "商品编码    6575 non-null float64\n",
      "商品名称    6575 non-null object\n",
      "销售数量    6575 non-null float64\n",
      "应收金额    6575 non-null float64\n",
      "实收金额    6575 non-null float64\n",
      "dtypes: float64(5), object(2)\n",
      "memory usage: 359.7+ KB\n"
     ]
    }
   ],
   "source": [
    "print(f'删除缺失值前：{dataZY.shape}')\n",
    "dataZY.info()\n",
    "\n",
    "#使用dropna函数删除缺失值，重置索引后赋值给新的变量\n",
    "dataZY_drop = dataZY.dropna().reset_index(drop=True)\n",
    "\n",
    "print(f'\\n删除缺失值后：{dataZY_drop.shape}')\n",
    "dataZY_drop.info()"
   ]
  },
  {
   "cell_type": "markdown",
   "metadata": {},
   "source": [
    "**2）删除重复数据**"
   ]
  },
  {
   "cell_type": "code",
   "execution_count": 6,
   "metadata": {},
   "outputs": [
    {
     "data": {
      "text/plain": [
       "(6575, 7)"
      ]
     },
     "execution_count": 6,
     "metadata": {},
     "output_type": "execute_result"
    }
   ],
   "source": [
    "dataZY_drop = dataZY_drop.drop_duplicates()  # 删除重复行\n",
    "dataZY_drop.shape"
   ]
  },
  {
   "cell_type": "markdown",
   "metadata": {},
   "source": [
    "操作后可发现数据并没有减少，即数据集中并无重复行。"
   ]
  },
  {
   "cell_type": "markdown",
   "metadata": {},
   "source": [
    "**3）数据类型转换**\n",
    "\n",
    "    对比原有数据类型，可以发现在实际数据分析过程中需要将“销售时间”改成时间格式，“社保卡号”和“商品编码”改成字符串（object）类型，因此需要对数据类型进行转换。"
   ]
  },
  {
   "cell_type": "code",
   "execution_count": 7,
   "metadata": {},
   "outputs": [
    {
     "data": {
      "text/html": [
       "<div>\n",
       "<style scoped>\n",
       "    .dataframe tbody tr th:only-of-type {\n",
       "        vertical-align: middle;\n",
       "    }\n",
       "\n",
       "    .dataframe tbody tr th {\n",
       "        vertical-align: top;\n",
       "    }\n",
       "\n",
       "    .dataframe thead th {\n",
       "        text-align: right;\n",
       "    }\n",
       "</style>\n",
       "<table border=\"1\" class=\"dataframe\">\n",
       "  <thead>\n",
       "    <tr style=\"text-align: right;\">\n",
       "      <th></th>\n",
       "      <th>销售时间</th>\n",
       "      <th>社保卡号</th>\n",
       "      <th>商品编码</th>\n",
       "      <th>商品名称</th>\n",
       "      <th>销售数量</th>\n",
       "      <th>应收金额</th>\n",
       "      <th>实收金额</th>\n",
       "    </tr>\n",
       "  </thead>\n",
       "  <tbody>\n",
       "    <tr>\n",
       "      <th>0</th>\n",
       "      <td>2018-01-01</td>\n",
       "      <td>1.61653e+06</td>\n",
       "      <td>236701</td>\n",
       "      <td>强力VC银翘片</td>\n",
       "      <td>6.0</td>\n",
       "      <td>82.8</td>\n",
       "      <td>69.00</td>\n",
       "    </tr>\n",
       "    <tr>\n",
       "      <th>1</th>\n",
       "      <td>2018-01-02</td>\n",
       "      <td>1.61653e+06</td>\n",
       "      <td>236701</td>\n",
       "      <td>清热解毒口服液</td>\n",
       "      <td>1.0</td>\n",
       "      <td>28.0</td>\n",
       "      <td>24.64</td>\n",
       "    </tr>\n",
       "    <tr>\n",
       "      <th>2</th>\n",
       "      <td>2018-01-06</td>\n",
       "      <td>1.26028e+07</td>\n",
       "      <td>236701</td>\n",
       "      <td>感康</td>\n",
       "      <td>2.0</td>\n",
       "      <td>16.8</td>\n",
       "      <td>15.00</td>\n",
       "    </tr>\n",
       "    <tr>\n",
       "      <th>3</th>\n",
       "      <td>2018-01-11</td>\n",
       "      <td>1.00703e+10</td>\n",
       "      <td>236701</td>\n",
       "      <td>三九感冒灵</td>\n",
       "      <td>1.0</td>\n",
       "      <td>28.0</td>\n",
       "      <td>28.00</td>\n",
       "    </tr>\n",
       "    <tr>\n",
       "      <th>4</th>\n",
       "      <td>2018-01-15</td>\n",
       "      <td>1.01554e+08</td>\n",
       "      <td>236701</td>\n",
       "      <td>三九感冒灵</td>\n",
       "      <td>8.0</td>\n",
       "      <td>224.0</td>\n",
       "      <td>208.00</td>\n",
       "    </tr>\n",
       "  </tbody>\n",
       "</table>\n",
       "</div>"
      ],
      "text/plain": [
       "        销售时间         社保卡号    商品编码     商品名称  销售数量   应收金额    实收金额\n",
       "0 2018-01-01  1.61653e+06  236701  强力VC银翘片   6.0   82.8   69.00\n",
       "1 2018-01-02  1.61653e+06  236701  清热解毒口服液   1.0   28.0   24.64\n",
       "2 2018-01-06  1.26028e+07  236701       感康   2.0   16.8   15.00\n",
       "3 2018-01-11  1.00703e+10  236701    三九感冒灵   1.0   28.0   28.00\n",
       "4 2018-01-15  1.01554e+08  236701    三九感冒灵   8.0  224.0  208.00"
      ]
     },
     "execution_count": 7,
     "metadata": {},
     "output_type": "execute_result"
    },
    {
     "data": {
      "text/plain": [
       "销售时间    datetime64[ns]\n",
       "社保卡号            object\n",
       "商品编码            object\n",
       "商品名称            object\n",
       "销售数量           float64\n",
       "应收金额           float64\n",
       "实收金额           float64\n",
       "dtype: object"
      ]
     },
     "execution_count": 7,
     "metadata": {},
     "output_type": "execute_result"
    }
   ],
   "source": [
    "dataZY_Ctype = dataZY_drop.copy()  # 复制数据\n",
    "\n",
    "# 提取字符串中的日期后转为时间格式\n",
    "dataZY_Ctype['销售时间'] = pd.to_datetime(dataZY_drop['销售时间'].str[:10],\n",
    "                                      format='%Y-%m-%d',\n",
    "                                      errors='coerce')  #将无效值强制转换为NaT\n",
    "\n",
    "# 将浮点型（float）数据转为字符串\n",
    "dataZY_Ctype['社保卡号'] = dataZY_drop['社保卡号'].astype('object')\n",
    "dataZY_Ctype['商品编码'] = dataZY_drop['商品编码'].astype('object')\n",
    "\n",
    "dataZY_Ctype.head()  # 查看前5行数据\n",
    "dataZY_Ctype.dtypes  # 查看每列的数据类型"
   ]
  },
  {
   "cell_type": "code",
   "execution_count": 8,
   "metadata": {
    "scrolled": true
   },
   "outputs": [
    {
     "name": "stdout",
     "output_type": "stream",
     "text": [
      "<class 'pandas.core.frame.DataFrame'>\n",
      "Int64Index: 6575 entries, 0 to 6574\n",
      "Data columns (total 7 columns):\n",
      "销售时间    6552 non-null datetime64[ns]\n",
      "社保卡号    6575 non-null object\n",
      "商品编码    6575 non-null object\n",
      "商品名称    6575 non-null object\n",
      "销售数量    6575 non-null float64\n",
      "应收金额    6575 non-null float64\n",
      "实收金额    6575 non-null float64\n",
      "dtypes: datetime64[ns](1), float64(3), object(3)\n",
      "memory usage: 410.9+ KB\n"
     ]
    },
    {
     "data": {
      "text/plain": [
       "销售时间     True\n",
       "社保卡号    False\n",
       "商品编码    False\n",
       "商品名称    False\n",
       "销售数量    False\n",
       "应收金额    False\n",
       "实收金额    False\n",
       "dtype: bool"
      ]
     },
     "execution_count": 8,
     "metadata": {},
     "output_type": "execute_result"
    },
    {
     "data": {
      "text/plain": [
       "23"
      ]
     },
     "execution_count": 8,
     "metadata": {},
     "output_type": "execute_result"
    },
    {
     "data": {
      "text/html": [
       "<div>\n",
       "<style scoped>\n",
       "    .dataframe tbody tr th:only-of-type {\n",
       "        vertical-align: middle;\n",
       "    }\n",
       "\n",
       "    .dataframe tbody tr th {\n",
       "        vertical-align: top;\n",
       "    }\n",
       "\n",
       "    .dataframe thead th {\n",
       "        text-align: right;\n",
       "    }\n",
       "</style>\n",
       "<table border=\"1\" class=\"dataframe\">\n",
       "  <thead>\n",
       "    <tr style=\"text-align: right;\">\n",
       "      <th></th>\n",
       "      <th>销售时间</th>\n",
       "      <th>社保卡号</th>\n",
       "      <th>商品编码</th>\n",
       "      <th>商品名称</th>\n",
       "      <th>销售数量</th>\n",
       "      <th>应收金额</th>\n",
       "      <th>实收金额</th>\n",
       "    </tr>\n",
       "  </thead>\n",
       "  <tbody>\n",
       "    <tr>\n",
       "      <th>335</th>\n",
       "      <td>NaT</td>\n",
       "      <td>1.00741e+10</td>\n",
       "      <td>2.36701e+06</td>\n",
       "      <td>高特灵</td>\n",
       "      <td>2.0</td>\n",
       "      <td>11.2</td>\n",
       "      <td>10.0</td>\n",
       "    </tr>\n",
       "    <tr>\n",
       "      <th>513</th>\n",
       "      <td>NaT</td>\n",
       "      <td>1.00188e+10</td>\n",
       "      <td>2.36701e+06</td>\n",
       "      <td>开博通</td>\n",
       "      <td>2.0</td>\n",
       "      <td>56.0</td>\n",
       "      <td>50.0</td>\n",
       "    </tr>\n",
       "    <tr>\n",
       "      <th>514</th>\n",
       "      <td>NaT</td>\n",
       "      <td>1.00307e+10</td>\n",
       "      <td>2.36701e+06</td>\n",
       "      <td>开博通</td>\n",
       "      <td>4.0</td>\n",
       "      <td>112.0</td>\n",
       "      <td>106.0</td>\n",
       "    </tr>\n",
       "    <tr>\n",
       "      <th>515</th>\n",
       "      <td>NaT</td>\n",
       "      <td>1.00457e+10</td>\n",
       "      <td>2.36701e+06</td>\n",
       "      <td>开博通</td>\n",
       "      <td>10.0</td>\n",
       "      <td>280.0</td>\n",
       "      <td>274.0</td>\n",
       "    </tr>\n",
       "    <tr>\n",
       "      <th>516</th>\n",
       "      <td>NaT</td>\n",
       "      <td>1.61653e+06</td>\n",
       "      <td>2.36701e+06</td>\n",
       "      <td>开博通</td>\n",
       "      <td>4.0</td>\n",
       "      <td>112.0</td>\n",
       "      <td>112.0</td>\n",
       "    </tr>\n",
       "    <tr>\n",
       "      <th>1223</th>\n",
       "      <td>NaT</td>\n",
       "      <td>1.01395e+07</td>\n",
       "      <td>861409</td>\n",
       "      <td>非洛地平缓释片(波依定)</td>\n",
       "      <td>2.0</td>\n",
       "      <td>65.0</td>\n",
       "      <td>58.0</td>\n",
       "    </tr>\n",
       "    <tr>\n",
       "      <th>1313</th>\n",
       "      <td>NaT</td>\n",
       "      <td>1.00404e+10</td>\n",
       "      <td>861417</td>\n",
       "      <td>雷米普利片(瑞素坦)</td>\n",
       "      <td>3.0</td>\n",
       "      <td>85.5</td>\n",
       "      <td>85.5</td>\n",
       "    </tr>\n",
       "    <tr>\n",
       "      <th>1937</th>\n",
       "      <td>NaT</td>\n",
       "      <td>1.04868e+08</td>\n",
       "      <td>861458</td>\n",
       "      <td>复方利血平氨苯蝶啶片(北京降压0号)</td>\n",
       "      <td>2.0</td>\n",
       "      <td>20.6</td>\n",
       "      <td>18.4</td>\n",
       "    </tr>\n",
       "    <tr>\n",
       "      <th>2132</th>\n",
       "      <td>NaT</td>\n",
       "      <td>1.17102e+07</td>\n",
       "      <td>861462</td>\n",
       "      <td>珍菊降压片</td>\n",
       "      <td>1.0</td>\n",
       "      <td>9.5</td>\n",
       "      <td>8.5</td>\n",
       "    </tr>\n",
       "    <tr>\n",
       "      <th>2243</th>\n",
       "      <td>NaT</td>\n",
       "      <td>1.00467e+10</td>\n",
       "      <td>861464</td>\n",
       "      <td>复方利血平片(复方降压片)</td>\n",
       "      <td>2.0</td>\n",
       "      <td>6.0</td>\n",
       "      <td>5.6</td>\n",
       "    </tr>\n",
       "    <tr>\n",
       "      <th>2813</th>\n",
       "      <td>NaT</td>\n",
       "      <td>1.61653e+06</td>\n",
       "      <td>861507</td>\n",
       "      <td>苯磺酸氨氯地平片(安内真)</td>\n",
       "      <td>4.0</td>\n",
       "      <td>42.0</td>\n",
       "      <td>42.0</td>\n",
       "    </tr>\n",
       "    <tr>\n",
       "      <th>3509</th>\n",
       "      <td>NaT</td>\n",
       "      <td>1.00467e+10</td>\n",
       "      <td>865099</td>\n",
       "      <td>硝苯地平片(心痛定)</td>\n",
       "      <td>2.0</td>\n",
       "      <td>3.4</td>\n",
       "      <td>3.0</td>\n",
       "    </tr>\n",
       "    <tr>\n",
       "      <th>4212</th>\n",
       "      <td>NaT</td>\n",
       "      <td>1.0024e+10</td>\n",
       "      <td>868120</td>\n",
       "      <td>KG替米沙坦片(欧美宁)(6盒/疗程)</td>\n",
       "      <td>6.0</td>\n",
       "      <td>99.0</td>\n",
       "      <td>82.5</td>\n",
       "    </tr>\n",
       "    <tr>\n",
       "      <th>4213</th>\n",
       "      <td>NaT</td>\n",
       "      <td>1.61653e+06</td>\n",
       "      <td>868120</td>\n",
       "      <td>KG替米沙坦片(欧美宁)(6盒/疗程)</td>\n",
       "      <td>1.0</td>\n",
       "      <td>16.5</td>\n",
       "      <td>16.5</td>\n",
       "    </tr>\n",
       "    <tr>\n",
       "      <th>4354</th>\n",
       "      <td>NaT</td>\n",
       "      <td>1.61653e+06</td>\n",
       "      <td>870210</td>\n",
       "      <td>卡维地洛片(金络)</td>\n",
       "      <td>4.0</td>\n",
       "      <td>145.2</td>\n",
       "      <td>145.2</td>\n",
       "    </tr>\n",
       "    <tr>\n",
       "      <th>4852</th>\n",
       "      <td>NaT</td>\n",
       "      <td>1.02344e+08</td>\n",
       "      <td>875185</td>\n",
       "      <td>坎地沙坦酯片(必洛斯)</td>\n",
       "      <td>1.0</td>\n",
       "      <td>42.0</td>\n",
       "      <td>42.0</td>\n",
       "    </tr>\n",
       "    <tr>\n",
       "      <th>5083</th>\n",
       "      <td>NaT</td>\n",
       "      <td>1.29776e+07</td>\n",
       "      <td>868120</td>\n",
       "      <td>KG替米沙坦片(欧美宁)(6盒/疗程)</td>\n",
       "      <td>2.0</td>\n",
       "      <td>33.0</td>\n",
       "      <td>33.0</td>\n",
       "    </tr>\n",
       "    <tr>\n",
       "      <th>5383</th>\n",
       "      <td>NaT</td>\n",
       "      <td>1.00126e+10</td>\n",
       "      <td>866407</td>\n",
       "      <td>x阿司匹林</td>\n",
       "      <td>3.0</td>\n",
       "      <td>84.0</td>\n",
       "      <td>84.0</td>\n",
       "    </tr>\n",
       "    <tr>\n",
       "      <th>5515</th>\n",
       "      <td>NaT</td>\n",
       "      <td>1.61653e+06</td>\n",
       "      <td>876988</td>\n",
       "      <td>氯沙坦钾氢氯噻嗪片(安内喜)</td>\n",
       "      <td>2.0</td>\n",
       "      <td>131.0</td>\n",
       "      <td>131.0</td>\n",
       "    </tr>\n",
       "    <tr>\n",
       "      <th>5965</th>\n",
       "      <td>NaT</td>\n",
       "      <td>1.00169e+10</td>\n",
       "      <td>861435</td>\n",
       "      <td>缬沙坦胶囊(代文)</td>\n",
       "      <td>1.0</td>\n",
       "      <td>41.8</td>\n",
       "      <td>37.5</td>\n",
       "    </tr>\n",
       "    <tr>\n",
       "      <th>6372</th>\n",
       "      <td>NaT</td>\n",
       "      <td>1.07066e+07</td>\n",
       "      <td>236701</td>\n",
       "      <td>清热解毒口服液</td>\n",
       "      <td>1.0</td>\n",
       "      <td>28.0</td>\n",
       "      <td>28.0</td>\n",
       "    </tr>\n",
       "    <tr>\n",
       "      <th>6394</th>\n",
       "      <td>NaT</td>\n",
       "      <td>1.00191e+10</td>\n",
       "      <td>861368</td>\n",
       "      <td>感康</td>\n",
       "      <td>1.0</td>\n",
       "      <td>9.5</td>\n",
       "      <td>8.5</td>\n",
       "    </tr>\n",
       "    <tr>\n",
       "      <th>6427</th>\n",
       "      <td>NaT</td>\n",
       "      <td>1.00174e+10</td>\n",
       "      <td>236706</td>\n",
       "      <td>阿司匹林</td>\n",
       "      <td>1.0</td>\n",
       "      <td>46.8</td>\n",
       "      <td>42.0</td>\n",
       "    </tr>\n",
       "  </tbody>\n",
       "</table>\n",
       "</div>"
      ],
      "text/plain": [
       "     销售时间         社保卡号         商品编码                 商品名称  销售数量   应收金额   实收金额\n",
       "335   NaT  1.00741e+10  2.36701e+06                  高特灵   2.0   11.2   10.0\n",
       "513   NaT  1.00188e+10  2.36701e+06                  开博通   2.0   56.0   50.0\n",
       "514   NaT  1.00307e+10  2.36701e+06                  开博通   4.0  112.0  106.0\n",
       "515   NaT  1.00457e+10  2.36701e+06                  开博通  10.0  280.0  274.0\n",
       "516   NaT  1.61653e+06  2.36701e+06                  开博通   4.0  112.0  112.0\n",
       "1223  NaT  1.01395e+07       861409         非洛地平缓释片(波依定)   2.0   65.0   58.0\n",
       "1313  NaT  1.00404e+10       861417           雷米普利片(瑞素坦)   3.0   85.5   85.5\n",
       "1937  NaT  1.04868e+08       861458   复方利血平氨苯蝶啶片(北京降压0号)   2.0   20.6   18.4\n",
       "2132  NaT  1.17102e+07       861462                珍菊降压片   1.0    9.5    8.5\n",
       "2243  NaT  1.00467e+10       861464        复方利血平片(复方降压片)   2.0    6.0    5.6\n",
       "2813  NaT  1.61653e+06       861507        苯磺酸氨氯地平片(安内真)   4.0   42.0   42.0\n",
       "3509  NaT  1.00467e+10       865099           硝苯地平片(心痛定)   2.0    3.4    3.0\n",
       "4212  NaT   1.0024e+10       868120  KG替米沙坦片(欧美宁)(6盒/疗程)   6.0   99.0   82.5\n",
       "4213  NaT  1.61653e+06       868120  KG替米沙坦片(欧美宁)(6盒/疗程)   1.0   16.5   16.5\n",
       "4354  NaT  1.61653e+06       870210            卡维地洛片(金络)   4.0  145.2  145.2\n",
       "4852  NaT  1.02344e+08       875185          坎地沙坦酯片(必洛斯)   1.0   42.0   42.0\n",
       "5083  NaT  1.29776e+07       868120  KG替米沙坦片(欧美宁)(6盒/疗程)   2.0   33.0   33.0\n",
       "5383  NaT  1.00126e+10       866407                x阿司匹林   3.0   84.0   84.0\n",
       "5515  NaT  1.61653e+06       876988       氯沙坦钾氢氯噻嗪片(安内喜)   2.0  131.0  131.0\n",
       "5965  NaT  1.00169e+10       861435            缬沙坦胶囊(代文)   1.0   41.8   37.5\n",
       "6372  NaT  1.07066e+07       236701              清热解毒口服液   1.0   28.0   28.0\n",
       "6394  NaT  1.00191e+10       861368                   感康   1.0    9.5    8.5\n",
       "6427  NaT  1.00174e+10       236706                 阿司匹林   1.0   46.8   42.0"
      ]
     },
     "execution_count": 8,
     "metadata": {},
     "output_type": "execute_result"
    }
   ],
   "source": [
    "dataZY_Ctype.info()  # 概览数据情况\n",
    "dataZY_Ctype.isnull().any()  # 判断哪些”列”存在缺失值\n",
    "len(dataZY_Ctype.loc[pd.isnull(dataZY_Ctype['销售时间']) ==\n",
    "                     True, :])  # 统计“销售时间”为空值的行数\n",
    "dataZY_Ctype.loc[pd.isnull(dataZY_Ctype['销售时间']) == True, :]  # 查看“销售时间”为空值的行"
   ]
  },
  {
   "cell_type": "markdown",
   "metadata": {},
   "source": [
    "转换日期过程中存在部分不符合日期格式的数值，且被转换为空值None，查看空值情况发现缺失数据较少，几乎不影响整体数据分布，故选择删除列（销售时间，社保卡号）中为空的行。"
   ]
  },
  {
   "cell_type": "code",
   "execution_count": 9,
   "metadata": {},
   "outputs": [
    {
     "data": {
      "text/plain": [
       "销售时间    False\n",
       "社保卡号    False\n",
       "商品编码    False\n",
       "商品名称    False\n",
       "销售数量    False\n",
       "应收金额    False\n",
       "实收金额    False\n",
       "dtype: bool"
      ]
     },
     "execution_count": 9,
     "metadata": {},
     "output_type": "execute_result"
    }
   ],
   "source": [
    "dataZY_clean = dataZY_Ctype.dropna(subset=['销售时间'], how='any').reset_index(\n",
    "    drop=True)  # 删除“销售时间”列中有缺失值的行，重置索引后赋值给新的变量\n",
    "dataZY_clean.isnull().any()  # 判断数据集中是否还有缺失值"
   ]
  },
  {
   "cell_type": "markdown",
   "metadata": {},
   "source": [
    "**4）数据排序**\n",
    "\n",
    "    此时时间是没有按顺序排列的，将数据按时间排序，便于后续分析；排序之后索引会被打乱，所以也需要重置一下索引。"
   ]
  },
  {
   "cell_type": "code",
   "execution_count": 10,
   "metadata": {},
   "outputs": [
    {
     "data": {
      "text/html": [
       "<div>\n",
       "<style scoped>\n",
       "    .dataframe tbody tr th:only-of-type {\n",
       "        vertical-align: middle;\n",
       "    }\n",
       "\n",
       "    .dataframe tbody tr th {\n",
       "        vertical-align: top;\n",
       "    }\n",
       "\n",
       "    .dataframe thead th {\n",
       "        text-align: right;\n",
       "    }\n",
       "</style>\n",
       "<table border=\"1\" class=\"dataframe\">\n",
       "  <thead>\n",
       "    <tr style=\"text-align: right;\">\n",
       "      <th></th>\n",
       "      <th>销售时间</th>\n",
       "      <th>社保卡号</th>\n",
       "      <th>商品编码</th>\n",
       "      <th>商品名称</th>\n",
       "      <th>销售数量</th>\n",
       "      <th>应收金额</th>\n",
       "      <th>实收金额</th>\n",
       "    </tr>\n",
       "  </thead>\n",
       "  <tbody>\n",
       "    <tr>\n",
       "      <th>0</th>\n",
       "      <td>2018-01-01</td>\n",
       "      <td>1.61653e+06</td>\n",
       "      <td>236701</td>\n",
       "      <td>强力VC银翘片</td>\n",
       "      <td>6.0</td>\n",
       "      <td>82.8</td>\n",
       "      <td>69.0</td>\n",
       "    </tr>\n",
       "    <tr>\n",
       "      <th>1</th>\n",
       "      <td>2018-01-01</td>\n",
       "      <td>1.07892e+08</td>\n",
       "      <td>861456</td>\n",
       "      <td>酒石酸美托洛尔片(倍他乐克)</td>\n",
       "      <td>2.0</td>\n",
       "      <td>14.0</td>\n",
       "      <td>12.6</td>\n",
       "    </tr>\n",
       "    <tr>\n",
       "      <th>2</th>\n",
       "      <td>2018-01-01</td>\n",
       "      <td>1.61653e+06</td>\n",
       "      <td>861417</td>\n",
       "      <td>雷米普利片(瑞素坦)</td>\n",
       "      <td>1.0</td>\n",
       "      <td>28.5</td>\n",
       "      <td>28.5</td>\n",
       "    </tr>\n",
       "    <tr>\n",
       "      <th>3</th>\n",
       "      <td>2018-01-01</td>\n",
       "      <td>1.0074e+10</td>\n",
       "      <td>866634</td>\n",
       "      <td>硝苯地平控释片(欣然)</td>\n",
       "      <td>6.0</td>\n",
       "      <td>111.0</td>\n",
       "      <td>92.5</td>\n",
       "    </tr>\n",
       "    <tr>\n",
       "      <th>4</th>\n",
       "      <td>2018-01-01</td>\n",
       "      <td>1.00143e+10</td>\n",
       "      <td>866851</td>\n",
       "      <td>缬沙坦分散片(易达乐)</td>\n",
       "      <td>1.0</td>\n",
       "      <td>26.0</td>\n",
       "      <td>23.0</td>\n",
       "    </tr>\n",
       "  </tbody>\n",
       "</table>\n",
       "</div>"
      ],
      "text/plain": [
       "        销售时间         社保卡号    商品编码            商品名称  销售数量   应收金额  实收金额\n",
       "0 2018-01-01  1.61653e+06  236701         强力VC银翘片   6.0   82.8  69.0\n",
       "1 2018-01-01  1.07892e+08  861456  酒石酸美托洛尔片(倍他乐克)   2.0   14.0  12.6\n",
       "2 2018-01-01  1.61653e+06  861417      雷米普利片(瑞素坦)   1.0   28.5  28.5\n",
       "3 2018-01-01   1.0074e+10  866634     硝苯地平控释片(欣然)   6.0  111.0  92.5\n",
       "4 2018-01-01  1.00143e+10  866851     缬沙坦分散片(易达乐)   1.0   26.0  23.0"
      ]
     },
     "execution_count": 10,
     "metadata": {},
     "output_type": "execute_result"
    }
   ],
   "source": [
    "dataZY_clean = dataZY_clean.sort_values(['销售时间'], ascending=True).reset_index(\n",
    "    drop=True)  # 按“销售时间”升序排列，并重置索引\n",
    "dataZY_clean.head()"
   ]
  },
  {
   "cell_type": "markdown",
   "metadata": {},
   "source": [
    "**5）异常值处理**"
   ]
  },
  {
   "cell_type": "code",
   "execution_count": 11,
   "metadata": {},
   "outputs": [
    {
     "data": {
      "text/html": [
       "<div>\n",
       "<style scoped>\n",
       "    .dataframe tbody tr th:only-of-type {\n",
       "        vertical-align: middle;\n",
       "    }\n",
       "\n",
       "    .dataframe tbody tr th {\n",
       "        vertical-align: top;\n",
       "    }\n",
       "\n",
       "    .dataframe thead th {\n",
       "        text-align: right;\n",
       "    }\n",
       "</style>\n",
       "<table border=\"1\" class=\"dataframe\">\n",
       "  <thead>\n",
       "    <tr style=\"text-align: right;\">\n",
       "      <th></th>\n",
       "      <th>销售数量</th>\n",
       "      <th>应收金额</th>\n",
       "      <th>实收金额</th>\n",
       "    </tr>\n",
       "  </thead>\n",
       "  <tbody>\n",
       "    <tr>\n",
       "      <th>count</th>\n",
       "      <td>6552.000000</td>\n",
       "      <td>6552.00000</td>\n",
       "      <td>6552.000000</td>\n",
       "    </tr>\n",
       "    <tr>\n",
       "      <th>mean</th>\n",
       "      <td>2.384158</td>\n",
       "      <td>50.43025</td>\n",
       "      <td>46.266972</td>\n",
       "    </tr>\n",
       "    <tr>\n",
       "      <th>std</th>\n",
       "      <td>2.374754</td>\n",
       "      <td>87.68075</td>\n",
       "      <td>81.043956</td>\n",
       "    </tr>\n",
       "    <tr>\n",
       "      <th>min</th>\n",
       "      <td>-10.000000</td>\n",
       "      <td>-374.00000</td>\n",
       "      <td>-374.000000</td>\n",
       "    </tr>\n",
       "    <tr>\n",
       "      <th>25%</th>\n",
       "      <td>1.000000</td>\n",
       "      <td>14.00000</td>\n",
       "      <td>12.320000</td>\n",
       "    </tr>\n",
       "    <tr>\n",
       "      <th>50%</th>\n",
       "      <td>2.000000</td>\n",
       "      <td>28.00000</td>\n",
       "      <td>26.500000</td>\n",
       "    </tr>\n",
       "    <tr>\n",
       "      <th>75%</th>\n",
       "      <td>2.000000</td>\n",
       "      <td>59.60000</td>\n",
       "      <td>53.000000</td>\n",
       "    </tr>\n",
       "    <tr>\n",
       "      <th>max</th>\n",
       "      <td>50.000000</td>\n",
       "      <td>2950.00000</td>\n",
       "      <td>2650.000000</td>\n",
       "    </tr>\n",
       "  </tbody>\n",
       "</table>\n",
       "</div>"
      ],
      "text/plain": [
       "              销售数量        应收金额         实收金额\n",
       "count  6552.000000  6552.00000  6552.000000\n",
       "mean      2.384158    50.43025    46.266972\n",
       "std       2.374754    87.68075    81.043956\n",
       "min     -10.000000  -374.00000  -374.000000\n",
       "25%       1.000000    14.00000    12.320000\n",
       "50%       2.000000    28.00000    26.500000\n",
       "75%       2.000000    59.60000    53.000000\n",
       "max      50.000000  2950.00000  2650.000000"
      ]
     },
     "execution_count": 11,
     "metadata": {},
     "output_type": "execute_result"
    }
   ],
   "source": [
    "dataZY_clean.describe()  #查看数据的描述统计信息"
   ]
  },
  {
   "cell_type": "markdown",
   "metadata": {},
   "source": [
    "通过描述统计信息可以看到，“销售数量”、“应收金额”、“实收金额”这三列数据的最小值出现了负数，这明显不符合常理，数据中存在异常值的干扰，因此要对数据进一步处理，以排除异常值的影响。"
   ]
  },
  {
   "cell_type": "code",
   "execution_count": 12,
   "metadata": {},
   "outputs": [
    {
     "data": {
      "text/html": [
       "<div>\n",
       "<style scoped>\n",
       "    .dataframe tbody tr th:only-of-type {\n",
       "        vertical-align: middle;\n",
       "    }\n",
       "\n",
       "    .dataframe tbody tr th {\n",
       "        vertical-align: top;\n",
       "    }\n",
       "\n",
       "    .dataframe thead th {\n",
       "        text-align: right;\n",
       "    }\n",
       "</style>\n",
       "<table border=\"1\" class=\"dataframe\">\n",
       "  <thead>\n",
       "    <tr style=\"text-align: right;\">\n",
       "      <th></th>\n",
       "      <th>销售数量</th>\n",
       "      <th>应收金额</th>\n",
       "      <th>实收金额</th>\n",
       "    </tr>\n",
       "  </thead>\n",
       "  <tbody>\n",
       "    <tr>\n",
       "      <th>count</th>\n",
       "      <td>6509.000000</td>\n",
       "      <td>6509.000000</td>\n",
       "      <td>6509.000000</td>\n",
       "    </tr>\n",
       "    <tr>\n",
       "      <th>mean</th>\n",
       "      <td>2.405285</td>\n",
       "      <td>50.908726</td>\n",
       "      <td>46.709935</td>\n",
       "    </tr>\n",
       "    <tr>\n",
       "      <th>std</th>\n",
       "      <td>2.364095</td>\n",
       "      <td>87.634645</td>\n",
       "      <td>80.983274</td>\n",
       "    </tr>\n",
       "    <tr>\n",
       "      <th>min</th>\n",
       "      <td>1.000000</td>\n",
       "      <td>1.200000</td>\n",
       "      <td>0.030000</td>\n",
       "    </tr>\n",
       "    <tr>\n",
       "      <th>25%</th>\n",
       "      <td>1.000000</td>\n",
       "      <td>14.000000</td>\n",
       "      <td>12.600000</td>\n",
       "    </tr>\n",
       "    <tr>\n",
       "      <th>50%</th>\n",
       "      <td>2.000000</td>\n",
       "      <td>28.000000</td>\n",
       "      <td>27.000000</td>\n",
       "    </tr>\n",
       "    <tr>\n",
       "      <th>75%</th>\n",
       "      <td>2.000000</td>\n",
       "      <td>59.600000</td>\n",
       "      <td>53.000000</td>\n",
       "    </tr>\n",
       "    <tr>\n",
       "      <th>max</th>\n",
       "      <td>50.000000</td>\n",
       "      <td>2950.000000</td>\n",
       "      <td>2650.000000</td>\n",
       "    </tr>\n",
       "  </tbody>\n",
       "</table>\n",
       "</div>"
      ],
      "text/plain": [
       "              销售数量         应收金额         实收金额\n",
       "count  6509.000000  6509.000000  6509.000000\n",
       "mean      2.405285    50.908726    46.709935\n",
       "std       2.364095    87.634645    80.983274\n",
       "min       1.000000     1.200000     0.030000\n",
       "25%       1.000000    14.000000    12.600000\n",
       "50%       2.000000    28.000000    27.000000\n",
       "75%       2.000000    59.600000    53.000000\n",
       "max      50.000000  2950.000000  2650.000000"
      ]
     },
     "execution_count": 12,
     "metadata": {},
     "output_type": "execute_result"
    }
   ],
   "source": [
    "dataZY_clean = dataZY_clean.loc[dataZY_clean['销售数量'] > 0, :]  # 删除“销售数量”列中小于0的行\n",
    "dataZY_clean.describe()  # 去除异常值后再次查看描述统计信息"
   ]
  },
  {
   "cell_type": "markdown",
   "metadata": {},
   "source": [
    "### 3、构建模型及数据可视化"
   ]
  },
  {
   "cell_type": "markdown",
   "metadata": {},
   "source": [
    "- 数据清洗完成后，需要利用数据构建模型（即计算相应的业务指标），并用可视化的方式呈现结果。"
   ]
  },
  {
   "cell_type": "markdown",
   "metadata": {},
   "source": [
    " **1）业务指标1：月均消费次数**\n",
    "\n",
    "    月均消费次数 = 总消费次数 / 月份数 （同一天内，同一个账户发生的所有消费算作一次消费）\n",
    "   - **① 计算总消费次数：**"
   ]
  },
  {
   "cell_type": "code",
   "execution_count": 13,
   "metadata": {},
   "outputs": [
    {
     "name": "stdout",
     "output_type": "stream",
     "text": [
      "总消费次数：5345\n"
     ]
    }
   ],
   "source": [
    "consume = dataZY_clean.drop_duplicates(subset=['销售时间', '社保卡号'])  # 删除同一天内的重复消费\n",
    "totalConsumption = len(consume)\n",
    "print(f'总消费次数：{totalConsumption}')"
   ]
  },
  {
   "cell_type": "markdown",
   "metadata": {},
   "source": [
    "- **② 计算月份数：**"
   ]
  },
  {
   "cell_type": "code",
   "execution_count": 14,
   "metadata": {},
   "outputs": [
    {
     "name": "stdout",
     "output_type": "stream",
     "text": [
      "月份数：6\n"
     ]
    }
   ],
   "source": [
    "totalDays = (dataZY_clean['销售时间'].max() -\n",
    "             dataZY_clean['销售时间'].min()).days  # 计算天数\n",
    "totalMonths = totalDays // 30  # 计算月份数\n",
    "print(f'月份数：{totalMonths}')"
   ]
  },
  {
   "cell_type": "markdown",
   "metadata": {},
   "source": [
    "- **③ 计算月均消费次数：**"
   ]
  },
  {
   "cell_type": "code",
   "execution_count": 15,
   "metadata": {},
   "outputs": [
    {
     "name": "stdout",
     "output_type": "stream",
     "text": [
      "业务指标1：月均消费次数 = 890\n"
     ]
    }
   ],
   "source": [
    "avgConsumption = totalConsumption // totalMonths\n",
    "print(f'业务指标1：月均消费次数 = {avgConsumption}')"
   ]
  },
  {
   "cell_type": "markdown",
   "metadata": {},
   "source": [
    "**2）业务指标2：月均消费金额**\n",
    "\n",
    "    月均消费金额 = 总消费金额 / 月份数"
   ]
  },
  {
   "cell_type": "code",
   "execution_count": 16,
   "metadata": {},
   "outputs": [
    {
     "name": "stdout",
     "output_type": "stream",
     "text": [
      "业务指标2：月均消费金额 = 50672.0\n"
     ]
    }
   ],
   "source": [
    "totalMoney = dataZY_clean['实收金额'].sum()  # 总消费金额\n",
    "avgMoney = totalMoney // totalMonths  # 月均消费金额\n",
    "print(f'业务指标2：月均消费金额 = {avgMoney}')"
   ]
  },
  {
   "cell_type": "markdown",
   "metadata": {},
   "source": [
    "**3）业务指标3：客单价**\n",
    "\n",
    "    客单价 = 总消费金额 / 总消费次数"
   ]
  },
  {
   "cell_type": "code",
   "execution_count": 17,
   "metadata": {},
   "outputs": [
    {
     "name": "stdout",
     "output_type": "stream",
     "text": [
      "业务指标3：客单价 = 56.0\n"
     ]
    }
   ],
   "source": [
    "atv = totalMoney // totalConsumption\n",
    "print(f'业务指标3：客单价 = {atv}')"
   ]
  },
  {
   "cell_type": "markdown",
   "metadata": {},
   "source": [
    "**4）业务指标4：消费趋势**"
   ]
  },
  {
   "cell_type": "code",
   "execution_count": 18,
   "metadata": {},
   "outputs": [],
   "source": [
    "# 导入相关包\n",
    "import matplotlib.pyplot as plt\n",
    "import matplotlib\n",
    "\n",
    "# jupyter自带的方式，允许图表在cell中输出\n",
    "%matplotlib inline\n",
    "\n",
    "# 使用R语言中的ggplot2配色作为绘图风格\n",
    "plt.style.use('ggplot')\n",
    "\n",
    "# 画图时用黑体显示中文字符\n",
    "from pylab import mpl\n",
    "mpl.rcParams['font.sans-serif'] = ['SimHei']"
   ]
  },
  {
   "cell_type": "code",
   "execution_count": 19,
   "metadata": {},
   "outputs": [
    {
     "data": {
      "text/html": [
       "<div>\n",
       "<style scoped>\n",
       "    .dataframe tbody tr th:only-of-type {\n",
       "        vertical-align: middle;\n",
       "    }\n",
       "\n",
       "    .dataframe tbody tr th {\n",
       "        vertical-align: top;\n",
       "    }\n",
       "\n",
       "    .dataframe thead th {\n",
       "        text-align: right;\n",
       "    }\n",
       "</style>\n",
       "<table border=\"1\" class=\"dataframe\">\n",
       "  <thead>\n",
       "    <tr style=\"text-align: right;\">\n",
       "      <th></th>\n",
       "      <th>销售时间</th>\n",
       "      <th>社保卡号</th>\n",
       "      <th>商品编码</th>\n",
       "      <th>商品名称</th>\n",
       "      <th>销售数量</th>\n",
       "      <th>应收金额</th>\n",
       "      <th>实收金额</th>\n",
       "    </tr>\n",
       "  </thead>\n",
       "  <tbody>\n",
       "    <tr>\n",
       "      <th>0</th>\n",
       "      <td>2018-01-01</td>\n",
       "      <td>1.61653e+06</td>\n",
       "      <td>236701</td>\n",
       "      <td>强力VC银翘片</td>\n",
       "      <td>6.0</td>\n",
       "      <td>82.8</td>\n",
       "      <td>69.0</td>\n",
       "    </tr>\n",
       "    <tr>\n",
       "      <th>1</th>\n",
       "      <td>2018-01-01</td>\n",
       "      <td>1.07892e+08</td>\n",
       "      <td>861456</td>\n",
       "      <td>酒石酸美托洛尔片(倍他乐克)</td>\n",
       "      <td>2.0</td>\n",
       "      <td>14.0</td>\n",
       "      <td>12.6</td>\n",
       "    </tr>\n",
       "    <tr>\n",
       "      <th>2</th>\n",
       "      <td>2018-01-01</td>\n",
       "      <td>1.61653e+06</td>\n",
       "      <td>861417</td>\n",
       "      <td>雷米普利片(瑞素坦)</td>\n",
       "      <td>1.0</td>\n",
       "      <td>28.5</td>\n",
       "      <td>28.5</td>\n",
       "    </tr>\n",
       "    <tr>\n",
       "      <th>3</th>\n",
       "      <td>2018-01-01</td>\n",
       "      <td>1.0074e+10</td>\n",
       "      <td>866634</td>\n",
       "      <td>硝苯地平控释片(欣然)</td>\n",
       "      <td>6.0</td>\n",
       "      <td>111.0</td>\n",
       "      <td>92.5</td>\n",
       "    </tr>\n",
       "    <tr>\n",
       "      <th>4</th>\n",
       "      <td>2018-01-01</td>\n",
       "      <td>1.00143e+10</td>\n",
       "      <td>866851</td>\n",
       "      <td>缬沙坦分散片(易达乐)</td>\n",
       "      <td>1.0</td>\n",
       "      <td>26.0</td>\n",
       "      <td>23.0</td>\n",
       "    </tr>\n",
       "  </tbody>\n",
       "</table>\n",
       "</div>"
      ],
      "text/plain": [
       "        销售时间         社保卡号    商品编码            商品名称  销售数量   应收金额  实收金额\n",
       "0 2018-01-01  1.61653e+06  236701         强力VC银翘片   6.0   82.8  69.0\n",
       "1 2018-01-01  1.07892e+08  861456  酒石酸美托洛尔片(倍他乐克)   2.0   14.0  12.6\n",
       "2 2018-01-01  1.61653e+06  861417      雷米普利片(瑞素坦)   1.0   28.5  28.5\n",
       "3 2018-01-01   1.0074e+10  866634     硝苯地平控释片(欣然)   6.0  111.0  92.5\n",
       "4 2018-01-01  1.00143e+10  866851     缬沙坦分散片(易达乐)   1.0   26.0  23.0"
      ]
     },
     "execution_count": 19,
     "metadata": {},
     "output_type": "execute_result"
    }
   ],
   "source": [
    "drugSales = dataZY_clean  # 复制一份清洗好的数据，防止后续操作影响源数据\n",
    "drugSales.head()"
   ]
  },
  {
   "cell_type": "markdown",
   "metadata": {},
   "source": [
    "   - **① 分析每天的消费金额：**"
   ]
  },
  {
   "cell_type": "code",
   "execution_count": 20,
   "metadata": {},
   "outputs": [
    {
     "data": {
      "text/html": [
       "<div>\n",
       "<style scoped>\n",
       "    .dataframe tbody tr th:only-of-type {\n",
       "        vertical-align: middle;\n",
       "    }\n",
       "\n",
       "    .dataframe tbody tr th {\n",
       "        vertical-align: top;\n",
       "    }\n",
       "\n",
       "    .dataframe thead th {\n",
       "        text-align: right;\n",
       "    }\n",
       "</style>\n",
       "<table border=\"1\" class=\"dataframe\">\n",
       "  <thead>\n",
       "    <tr style=\"text-align: right;\">\n",
       "      <th></th>\n",
       "      <th>销售时间</th>\n",
       "      <th>社保卡号</th>\n",
       "      <th>商品编码</th>\n",
       "      <th>商品名称</th>\n",
       "      <th>销售数量</th>\n",
       "      <th>应收金额</th>\n",
       "      <th>实收金额</th>\n",
       "    </tr>\n",
       "    <tr>\n",
       "      <th>销售时间</th>\n",
       "      <th></th>\n",
       "      <th></th>\n",
       "      <th></th>\n",
       "      <th></th>\n",
       "      <th></th>\n",
       "      <th></th>\n",
       "      <th></th>\n",
       "    </tr>\n",
       "  </thead>\n",
       "  <tbody>\n",
       "    <tr>\n",
       "      <th>2018-01-01</th>\n",
       "      <td>2018-01-01</td>\n",
       "      <td>1.61653e+06</td>\n",
       "      <td>236701</td>\n",
       "      <td>强力VC银翘片</td>\n",
       "      <td>6.0</td>\n",
       "      <td>82.8</td>\n",
       "      <td>69.0</td>\n",
       "    </tr>\n",
       "    <tr>\n",
       "      <th>2018-01-01</th>\n",
       "      <td>2018-01-01</td>\n",
       "      <td>1.07892e+08</td>\n",
       "      <td>861456</td>\n",
       "      <td>酒石酸美托洛尔片(倍他乐克)</td>\n",
       "      <td>2.0</td>\n",
       "      <td>14.0</td>\n",
       "      <td>12.6</td>\n",
       "    </tr>\n",
       "    <tr>\n",
       "      <th>2018-01-01</th>\n",
       "      <td>2018-01-01</td>\n",
       "      <td>1.61653e+06</td>\n",
       "      <td>861417</td>\n",
       "      <td>雷米普利片(瑞素坦)</td>\n",
       "      <td>1.0</td>\n",
       "      <td>28.5</td>\n",
       "      <td>28.5</td>\n",
       "    </tr>\n",
       "    <tr>\n",
       "      <th>2018-01-01</th>\n",
       "      <td>2018-01-01</td>\n",
       "      <td>1.0074e+10</td>\n",
       "      <td>866634</td>\n",
       "      <td>硝苯地平控释片(欣然)</td>\n",
       "      <td>6.0</td>\n",
       "      <td>111.0</td>\n",
       "      <td>92.5</td>\n",
       "    </tr>\n",
       "    <tr>\n",
       "      <th>2018-01-01</th>\n",
       "      <td>2018-01-01</td>\n",
       "      <td>1.00143e+10</td>\n",
       "      <td>866851</td>\n",
       "      <td>缬沙坦分散片(易达乐)</td>\n",
       "      <td>1.0</td>\n",
       "      <td>26.0</td>\n",
       "      <td>23.0</td>\n",
       "    </tr>\n",
       "  </tbody>\n",
       "</table>\n",
       "</div>"
      ],
      "text/plain": [
       "                 销售时间         社保卡号    商品编码            商品名称  销售数量   应收金额  实收金额\n",
       "销售时间                                                                         \n",
       "2018-01-01 2018-01-01  1.61653e+06  236701         强力VC银翘片   6.0   82.8  69.0\n",
       "2018-01-01 2018-01-01  1.07892e+08  861456  酒石酸美托洛尔片(倍他乐克)   2.0   14.0  12.6\n",
       "2018-01-01 2018-01-01  1.61653e+06  861417      雷米普利片(瑞素坦)   1.0   28.5  28.5\n",
       "2018-01-01 2018-01-01   1.0074e+10  866634     硝苯地平控释片(欣然)   6.0  111.0  92.5\n",
       "2018-01-01 2018-01-01  1.00143e+10  866851     缬沙坦分散片(易达乐)   1.0   26.0  23.0"
      ]
     },
     "execution_count": 20,
     "metadata": {},
     "output_type": "execute_result"
    }
   ],
   "source": [
    "drugSales.index = drugSales['销售时间']  # 重命名行索引（index）为销售时间所在列的值\n",
    "drugSales.head()"
   ]
  },
  {
   "cell_type": "code",
   "execution_count": 21,
   "metadata": {},
   "outputs": [
    {
     "name": "stderr",
     "output_type": "stream",
     "text": [
      "D:\\Anaconda\\Anaconda\\lib\\site-packages\\pandas\\plotting\\_matplotlib\\converter.py:103: FutureWarning: Using an implicitly registered datetime converter for a matplotlib plotting method. The converter was registered by pandas on import. Future versions of pandas will require you to explicitly register matplotlib converters.\n",
      "\n",
      "To register the converters:\n",
      "\t>>> from pandas.plotting import register_matplotlib_converters\n",
      "\t>>> register_matplotlib_converters()\n",
      "  warnings.warn(msg, FutureWarning)\n"
     ]
    },
    {
     "data": {
      "text/plain": [
       "[<matplotlib.lines.Line2D at 0x1ad02a649e8>]"
      ]
     },
     "execution_count": 21,
     "metadata": {},
     "output_type": "execute_result"
    },
    {
     "data": {
      "text/plain": [
       "Text(0.5, 1.0, '按天消费金额图')"
      ]
     },
     "execution_count": 21,
     "metadata": {},
     "output_type": "execute_result"
    },
    {
     "data": {
      "text/plain": [
       "Text(0.5, 0, '时间')"
      ]
     },
     "execution_count": 21,
     "metadata": {},
     "output_type": "execute_result"
    },
    {
     "data": {
      "text/plain": [
       "Text(0, 0.5, '实收金额')"
      ]
     },
     "execution_count": 21,
     "metadata": {},
     "output_type": "execute_result"
    },
    {
     "data": {
      "image/png": "[encoded data removed]",
      "text/plain": [
       "<Figure size 432x288 with 1 Axes>"
      ]
     },
     "metadata": {
      "needs_background": "light"
     },
     "output_type": "display_data"
    }
   ],
   "source": [
    "# 画图（按天消费金额图）\n",
    "plt.plot(drugSales['实收金额'])\n",
    "\n",
    "plt.title('按天消费金额图')\n",
    "plt.xlabel('时间')\n",
    "plt.ylabel('实收金额')\n",
    "\n",
    "# 保存图片\n",
    "plt.savefig(r'C:\\Users\\ZK\\Desktop\\note\\药品销售数据分析\\picture\\按天消费金额图.png')\n",
    "\n",
    "#显示图片\n",
    "plt.show()"
   ]
  },
  {
   "cell_type": "markdown",
   "metadata": {},
   "source": [
    "从结果可以看出，每天消费总额差异较大，除了个别天出现比较大笔的消费，大部分天数的消费金额维持在500元以内。"
   ]
  },
  {
   "cell_type": "markdown",
   "metadata": {},
   "source": [
    "   - **② 分析每月的消费金额：**"
   ]
  },
  {
   "cell_type": "code",
   "execution_count": 22,
   "metadata": {},
   "outputs": [
    {
     "data": {
      "text/html": [
       "<div>\n",
       "<style scoped>\n",
       "    .dataframe tbody tr th:only-of-type {\n",
       "        vertical-align: middle;\n",
       "    }\n",
       "\n",
       "    .dataframe tbody tr th {\n",
       "        vertical-align: top;\n",
       "    }\n",
       "\n",
       "    .dataframe thead th {\n",
       "        text-align: right;\n",
       "    }\n",
       "</style>\n",
       "<table border=\"1\" class=\"dataframe\">\n",
       "  <thead>\n",
       "    <tr style=\"text-align: right;\">\n",
       "      <th></th>\n",
       "      <th>销售数量</th>\n",
       "      <th>应收金额</th>\n",
       "      <th>实收金额</th>\n",
       "    </tr>\n",
       "    <tr>\n",
       "      <th>销售时间</th>\n",
       "      <th></th>\n",
       "      <th></th>\n",
       "      <th></th>\n",
       "    </tr>\n",
       "  </thead>\n",
       "  <tbody>\n",
       "    <tr>\n",
       "      <th>1</th>\n",
       "      <td>2527.0</td>\n",
       "      <td>53561.6</td>\n",
       "      <td>49461.19</td>\n",
       "    </tr>\n",
       "    <tr>\n",
       "      <th>2</th>\n",
       "      <td>1858.0</td>\n",
       "      <td>42028.8</td>\n",
       "      <td>38790.38</td>\n",
       "    </tr>\n",
       "    <tr>\n",
       "      <th>3</th>\n",
       "      <td>2225.0</td>\n",
       "      <td>45318.0</td>\n",
       "      <td>41597.51</td>\n",
       "    </tr>\n",
       "    <tr>\n",
       "      <th>4</th>\n",
       "      <td>3010.0</td>\n",
       "      <td>54324.3</td>\n",
       "      <td>48812.70</td>\n",
       "    </tr>\n",
       "    <tr>\n",
       "      <th>5</th>\n",
       "      <td>2225.0</td>\n",
       "      <td>51263.4</td>\n",
       "      <td>46925.27</td>\n",
       "    </tr>\n",
       "    <tr>\n",
       "      <th>6</th>\n",
       "      <td>2328.0</td>\n",
       "      <td>52300.8</td>\n",
       "      <td>48327.70</td>\n",
       "    </tr>\n",
       "    <tr>\n",
       "      <th>7</th>\n",
       "      <td>1483.0</td>\n",
       "      <td>32568.0</td>\n",
       "      <td>30120.22</td>\n",
       "    </tr>\n",
       "  </tbody>\n",
       "</table>\n",
       "</div>"
      ],
      "text/plain": [
       "        销售数量     应收金额      实收金额\n",
       "销售时间                           \n",
       "1     2527.0  53561.6  49461.19\n",
       "2     1858.0  42028.8  38790.38\n",
       "3     2225.0  45318.0  41597.51\n",
       "4     3010.0  54324.3  48812.70\n",
       "5     2225.0  51263.4  46925.27\n",
       "6     2328.0  52300.8  48327.70\n",
       "7     1483.0  32568.0  30120.22"
      ]
     },
     "execution_count": 22,
     "metadata": {},
     "output_type": "execute_result"
    }
   ],
   "source": [
    "monMoneys = drugSales.groupby(drugSales.index.month).sum()  # 按月统计消费总额\n",
    "monMoneys"
   ]
  },
  {
   "cell_type": "code",
   "execution_count": 23,
   "metadata": {},
   "outputs": [
    {
     "data": {
      "text/plain": [
       "[<matplotlib.lines.Line2D at 0x1ad03d93940>]"
      ]
     },
     "execution_count": 23,
     "metadata": {},
     "output_type": "execute_result"
    },
    {
     "data": {
      "text/plain": [
       "Text(0.5, 1.0, '按月消费金额图')"
      ]
     },
     "execution_count": 23,
     "metadata": {},
     "output_type": "execute_result"
    },
    {
     "data": {
      "text/plain": [
       "Text(0.5, 0, '月份')"
      ]
     },
     "execution_count": 23,
     "metadata": {},
     "output_type": "execute_result"
    },
    {
     "data": {
      "text/plain": [
       "Text(0, 0.5, '实收金额')"
      ]
     },
     "execution_count": 23,
     "metadata": {},
     "output_type": "execute_result"
    },
    {
     "data": {
      "image/png": "[encoded data removed]",
      "text/plain": [
       "<Figure size 432x288 with 1 Axes>"
      ]
     },
     "metadata": {
      "needs_background": "light"
     },
     "output_type": "display_data"
    }
   ],
   "source": [
    "# 画图（按月消费金额图）\n",
    "plt.plot(monMoneys['实收金额'])\n",
    "\n",
    "plt.title('按月消费金额图')\n",
    "plt.xlabel('月份')\n",
    "plt.ylabel('实收金额')\n",
    "plt.savefig(r'C:\\Users\\ZK\\Desktop\\note\\药品销售数据分析\\picture\\按月消费金额图.png')\n",
    "plt.show()"
   ]
  },
  {
   "cell_type": "markdown",
   "metadata": {},
   "source": [
    "结果显示，7月消费金额最少，这是因为7月份的数据不完整，所以不具参考价值。\n",
    "\n",
    "1月、4月、5月和6月的月消费金额差异不大，2月和3月的消费金额迅速降低，这可能是2月和3月处于春节期间，大部分人都回家过年的原因。"
   ]
  },
  {
   "cell_type": "markdown",
   "metadata": {},
   "source": [
    "   - **③ 分析药品销售情况：**"
   ]
  },
  {
   "cell_type": "code",
   "execution_count": 24,
   "metadata": {
    "scrolled": true
   },
   "outputs": [
    {
     "data": {
      "text/html": [
       "<div>\n",
       "<style scoped>\n",
       "    .dataframe tbody tr th:only-of-type {\n",
       "        vertical-align: middle;\n",
       "    }\n",
       "\n",
       "    .dataframe tbody tr th {\n",
       "        vertical-align: top;\n",
       "    }\n",
       "\n",
       "    .dataframe thead th {\n",
       "        text-align: right;\n",
       "    }\n",
       "</style>\n",
       "<table border=\"1\" class=\"dataframe\">\n",
       "  <thead>\n",
       "    <tr style=\"text-align: right;\">\n",
       "      <th></th>\n",
       "      <th>销售数量</th>\n",
       "      <th>应收金额</th>\n",
       "      <th>实收金额</th>\n",
       "    </tr>\n",
       "    <tr>\n",
       "      <th>商品名称</th>\n",
       "      <th></th>\n",
       "      <th></th>\n",
       "      <th></th>\n",
       "    </tr>\n",
       "  </thead>\n",
       "  <tbody>\n",
       "    <tr>\n",
       "      <th>苯磺酸氨氯地平片(安内真)</th>\n",
       "      <td>1781.0</td>\n",
       "      <td>22315.0</td>\n",
       "      <td>19081.44</td>\n",
       "    </tr>\n",
       "    <tr>\n",
       "      <th>开博通</th>\n",
       "      <td>1440.0</td>\n",
       "      <td>40689.0</td>\n",
       "      <td>37080.36</td>\n",
       "    </tr>\n",
       "    <tr>\n",
       "      <th>酒石酸美托洛尔片(倍他乐克)</th>\n",
       "      <td>1140.0</td>\n",
       "      <td>8780.4</td>\n",
       "      <td>7919.82</td>\n",
       "    </tr>\n",
       "    <tr>\n",
       "      <th>硝苯地平片(心痛定)</th>\n",
       "      <td>825.0</td>\n",
       "      <td>1271.5</td>\n",
       "      <td>1108.99</td>\n",
       "    </tr>\n",
       "    <tr>\n",
       "      <th>苯磺酸氨氯地平片(络活喜)</th>\n",
       "      <td>796.0</td>\n",
       "      <td>26249.4</td>\n",
       "      <td>24251.04</td>\n",
       "    </tr>\n",
       "  </tbody>\n",
       "</table>\n",
       "</div>"
      ],
      "text/plain": [
       "                  销售数量     应收金额      实收金额\n",
       "商品名称                                     \n",
       "苯磺酸氨氯地平片(安内真)   1781.0  22315.0  19081.44\n",
       "开博通             1440.0  40689.0  37080.36\n",
       "酒石酸美托洛尔片(倍他乐克)  1140.0   8780.4   7919.82\n",
       "硝苯地平片(心痛定)       825.0   1271.5   1108.99\n",
       "苯磺酸氨氯地平片(络活喜)    796.0  26249.4  24251.04"
      ]
     },
     "execution_count": 24,
     "metadata": {},
     "output_type": "execute_result"
    }
   ],
   "source": [
    "# 统计各种药品的销售情况,并按药品销售数量降序排列\n",
    "medicine = drugSales.groupby(['商品名称']).sum().sort_values('销售数量',\n",
    "                                                         ascending=False)\n",
    "medicine.head()"
   ]
  },
  {
   "cell_type": "code",
   "execution_count": 25,
   "metadata": {
    "scrolled": false
   },
   "outputs": [
    {
     "data": {
      "text/html": [
       "<div>\n",
       "<style scoped>\n",
       "    .dataframe tbody tr th:only-of-type {\n",
       "        vertical-align: middle;\n",
       "    }\n",
       "\n",
       "    .dataframe tbody tr th {\n",
       "        vertical-align: top;\n",
       "    }\n",
       "\n",
       "    .dataframe thead th {\n",
       "        text-align: right;\n",
       "    }\n",
       "</style>\n",
       "<table border=\"1\" class=\"dataframe\">\n",
       "  <thead>\n",
       "    <tr style=\"text-align: right;\">\n",
       "      <th></th>\n",
       "      <th>销售数量</th>\n",
       "      <th>应收金额</th>\n",
       "      <th>实收金额</th>\n",
       "    </tr>\n",
       "    <tr>\n",
       "      <th>商品名称</th>\n",
       "      <th></th>\n",
       "      <th></th>\n",
       "      <th></th>\n",
       "    </tr>\n",
       "  </thead>\n",
       "  <tbody>\n",
       "    <tr>\n",
       "      <th>苯磺酸氨氯地平片(安内真)</th>\n",
       "      <td>1781.0</td>\n",
       "      <td>22315.0</td>\n",
       "      <td>19081.44</td>\n",
       "    </tr>\n",
       "    <tr>\n",
       "      <th>开博通</th>\n",
       "      <td>1440.0</td>\n",
       "      <td>40689.0</td>\n",
       "      <td>37080.36</td>\n",
       "    </tr>\n",
       "    <tr>\n",
       "      <th>酒石酸美托洛尔片(倍他乐克)</th>\n",
       "      <td>1140.0</td>\n",
       "      <td>8780.4</td>\n",
       "      <td>7919.82</td>\n",
       "    </tr>\n",
       "    <tr>\n",
       "      <th>硝苯地平片(心痛定)</th>\n",
       "      <td>825.0</td>\n",
       "      <td>1271.5</td>\n",
       "      <td>1108.99</td>\n",
       "    </tr>\n",
       "    <tr>\n",
       "      <th>苯磺酸氨氯地平片(络活喜)</th>\n",
       "      <td>796.0</td>\n",
       "      <td>26249.4</td>\n",
       "      <td>24251.04</td>\n",
       "    </tr>\n",
       "    <tr>\n",
       "      <th>复方利血平片(复方降压片)</th>\n",
       "      <td>515.0</td>\n",
       "      <td>1547.6</td>\n",
       "      <td>1397.38</td>\n",
       "    </tr>\n",
       "    <tr>\n",
       "      <th>G琥珀酸美托洛尔缓释片(倍他乐克)</th>\n",
       "      <td>509.0</td>\n",
       "      <td>9648.1</td>\n",
       "      <td>8620.96</td>\n",
       "    </tr>\n",
       "    <tr>\n",
       "      <th>缬沙坦胶囊(代文)</th>\n",
       "      <td>445.0</td>\n",
       "      <td>17731.0</td>\n",
       "      <td>16774.77</td>\n",
       "    </tr>\n",
       "    <tr>\n",
       "      <th>非洛地平缓释片(波依定)</th>\n",
       "      <td>375.0</td>\n",
       "      <td>11416.0</td>\n",
       "      <td>10419.56</td>\n",
       "    </tr>\n",
       "    <tr>\n",
       "      <th>高特灵</th>\n",
       "      <td>371.0</td>\n",
       "      <td>2091.4</td>\n",
       "      <td>1988.09</td>\n",
       "    </tr>\n",
       "  </tbody>\n",
       "</table>\n",
       "</div>"
      ],
      "text/plain": [
       "                     销售数量     应收金额      实收金额\n",
       "商品名称                                        \n",
       "苯磺酸氨氯地平片(安内真)      1781.0  22315.0  19081.44\n",
       "开博通                1440.0  40689.0  37080.36\n",
       "酒石酸美托洛尔片(倍他乐克)     1140.0   8780.4   7919.82\n",
       "硝苯地平片(心痛定)          825.0   1271.5   1108.99\n",
       "苯磺酸氨氯地平片(络活喜)       796.0  26249.4  24251.04\n",
       "复方利血平片(复方降压片)       515.0   1547.6   1397.38\n",
       "G琥珀酸美托洛尔缓释片(倍他乐克)   509.0   9648.1   8620.96\n",
       "缬沙坦胶囊(代文)           445.0  17731.0  16774.77\n",
       "非洛地平缓释片(波依定)        375.0  11416.0  10419.56\n",
       "高特灵                 371.0   2091.4   1988.09"
      ]
     },
     "execution_count": 25,
     "metadata": {},
     "output_type": "execute_result"
    }
   ],
   "source": [
    "# 截取销售量最多的十种药品\n",
    "top_medicine = medicine.iloc[:10,:]\n",
    "top_medicine"
   ]
  },
  {
   "cell_type": "code",
   "execution_count": 26,
   "metadata": {},
   "outputs": [
    {
     "data": {
      "text/plain": [
       "<matplotlib.axes._subplots.AxesSubplot at 0x1ad03dbe748>"
      ]
     },
     "execution_count": 26,
     "metadata": {},
     "output_type": "execute_result"
    },
    {
     "data": {
      "text/plain": [
       "Text(0.5, 1.0, '药品销售前十情况')"
      ]
     },
     "execution_count": 26,
     "metadata": {},
     "output_type": "execute_result"
    },
    {
     "data": {
      "text/plain": [
       "Text(0.5, 0, '药品种类')"
      ]
     },
     "execution_count": 26,
     "metadata": {},
     "output_type": "execute_result"
    },
    {
     "data": {
      "text/plain": [
       "Text(0, 0.5, '销售数量')"
      ]
     },
     "execution_count": 26,
     "metadata": {},
     "output_type": "execute_result"
    },
    {
     "data": {
      "text/plain": [
       "<matplotlib.legend.Legend at 0x1ad03ddd550>"
      ]
     },
     "execution_count": 26,
     "metadata": {},
     "output_type": "execute_result"
    },
    {
     "data": {
      "image/png": "[encoded data removed]",
      "text/plain": [
       "<Figure size 432x288 with 1 Axes>"
      ]
     },
     "metadata": {
      "needs_background": "light"
     },
     "output_type": "display_data"
    }
   ],
   "source": [
    "# 用条形图展示销售量前十的药品\n",
    "top_medicine['销售数量'].plot(kind='bar')\n",
    "\n",
    "plt.title('药品销售前十情况')\n",
    "plt.xlabel('药品种类')\n",
    "plt.ylabel('销售数量')\n",
    "plt.legend(loc=0)\n",
    "plt.savefig(r'C:\\Users\\ZK\\Desktop\\note\\药品销售数据分析\\picture\\药品销售前十情况.png')\n",
    "plt.show()"
   ]
  },
  {
   "cell_type": "markdown",
   "metadata": {},
   "source": [
    "得到销售量前十的药品信息，有助于加强医院对药房的管理。"
   ]
  }
 ],
 "metadata": {
  "kernelspec": {
   "display_name": "Python 3",
   "language": "python",
   "name": "python3"
  },
  "language_info": {
   "codemirror_mode": {
    "name": "ipython",
    "version": 3
   },
   "file_extension": ".py",
   "mimetype": "text/x-python",
   "name": "python",
   "nbconvert_exporter": "python",
   "pygments_lexer": "ipython3",
   "version": "3.6.5"
  }
 },
 "nbformat": 4,
 "nbformat_minor": 2
}
